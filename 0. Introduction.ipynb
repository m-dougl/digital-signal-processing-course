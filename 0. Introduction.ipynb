{
 "cells": [
  {
   "cell_type": "markdown",
   "metadata": {},
   "source": [
    "### Digital Signal Processing (DSP) Course\n",
    "\n",
    "With a programming based approach, this course is designed to give you a solid foundation in the most useful aspects of Digital Signal Processing (DSP) in an engaging and easy to follow way. The goal of this course is to present practical techniques while avoiding  obstacles of abstract mathematical theories. To achieve this goal, the DSP techniques are explained in plain language, not simply proven to be true through mathematical derivations.\n",
    "\n",
    "Still keeping it simple, this course comes in different programming languages and hardware architectures so that students can put the techniques to practice using a programming language or hardware architecture  of their choice. This version of the course uses the Python programming language.\n",
    "\n",
    "By the end of this course you should be able develop the Convolution Kernel algorithm in python,  develop 17 different  types  of window  filters in python, develop the Discrete Fourier Transform (DFT) algorithm in python, develop the Inverse Discrete Fourier Transform (IDFT) algorithm in pyhton, design and develop Finite Impulse Response (FIR) filters in python, design and develop Infinite Impulse Response (IIR) filters in python, develop Type I Chebyshev filters in python, develop Type II Chebyshev filters in python, perform spectral analysis on ECG signals in python,  develop Butterworth filters in python, develop Match filters in python,simulate Linear Time Invariant (LTI) Systems in python, even give a lecture on DSP and so much more. Please take a look at the full course curriculum."
   ]
  },
  {
   "cell_type": "markdown",
   "metadata": {},
   "source": [
    "|Section | Content                                                     |\n",
    "| -------|-------------------------------------------------------------|\n",
    "| 1      | Signal Statistics and Noise                                 |\n",
    "| 2      | Quantization and The sampling Theorem                       |\n",
    "| 3      | Linear systems and Superposition                            |\n",
    "| 4      | Convolution                                                 |\n",
    "| 5      | Fourier Transform                                           |\n",
    "| 6      | Complex Numbers                                             |\n",
    "| 7      | Complex Fourier Transform                                   |\n",
    "| 8      | Fast Fourier Transform                                      |\n",
    "| 9      | Digital Filter Design                                       |\n",
    "| 10     | Designing Finite Impulse Response (FIR) Filters             |\n",
    "| 11     | Designing Infinite Impulse Response (IIR) Filters           |\n",
    "| 12     | Designing Windowed Filters                                  |\n",
    "| 13     | Custom Filters                                              |\n",
    "| 14     | Designing Match Filters                                     |\n",
    "| 15     | FFT Convolution                                             |\n",
    "| 16     | Representing Linear Time Invariant (LTI) Systems in Python  |\n",
    "| 17     | Interpolation                                               |\n",
    "| 18     | Waveform Generation                                         |"
   ]
  }
 ],
 "metadata": {
  "language_info": {
   "name": "python"
  }
 },
 "nbformat": 4,
 "nbformat_minor": 2
}
